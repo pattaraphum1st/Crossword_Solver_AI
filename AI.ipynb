{
 "cells": [
  {
   "cell_type": "code",
   "execution_count": null,
   "metadata": {},
   "outputs": [],
   "source": [
    "pip install spacy"
   ]
  },
  {
   "cell_type": "code",
   "execution_count": null,
   "metadata": {},
   "outputs": [],
   "source": [
    "!python -m spacy download en_core_web_md"
   ]
  },
  {
   "cell_type": "code",
   "execution_count": null,
   "metadata": {},
   "outputs": [
    {
     "name": "stdout",
     "output_type": "stream",
     "text": [
      "   rowid                                               clue  \\\n",
      "0      1                 Acquisitive chap, as we see it (8)   \n",
      "1      2             Back yard fencing weak and sagging (6)   \n",
      "2      3  Stripping off uniform, love holding colonel's ...   \n",
      "3      4     Without a mark where they should be gained (4)   \n",
      "4      5  Put a stop to Rugby's foul school leader (5,2,...   \n",
      "\n",
      "              answer                   definition clue_number puzzle_date  \\\n",
      "0           COVETOUS                  Acquisitive          1a  2019-08-08   \n",
      "1             DROOPY                      sagging          5a  2019-08-08   \n",
      "2         UNCLOTHING                    Stripping          8a  2019-08-08   \n",
      "3               EXAM  where they should be gained          9a  2019-08-08   \n",
      "4  KNOCK ON THE HEAD                Put a stop to         10a  2019-08-08   \n",
      "\n",
      "   puzzle_name                                         source_url  \\\n",
      "0  Times 27424  https://times-xwd-times.livejournal.com/218581...   \n",
      "1  Times 27424  https://times-xwd-times.livejournal.com/218581...   \n",
      "2  Times 27424  https://times-xwd-times.livejournal.com/218581...   \n",
      "3  Times 27424  https://times-xwd-times.livejournal.com/218581...   \n",
      "4  Times 27424  https://times-xwd-times.livejournal.com/218581...   \n",
      "\n",
      "            source  \n",
      "0  times_xwd_times  \n",
      "1  times_xwd_times  \n",
      "2  times_xwd_times  \n",
      "3  times_xwd_times  \n",
      "4  times_xwd_times  \n"
     ]
    }
   ],
   "source": [
    "import pandas as pd\n",
    "\n",
    "# Load the dataset (update the filename if necessary)\n",
    "df = pd.read_csv(\"C:/Users/USER/Documents/GitHub/Crossword_Solver_AI/Source/times.csv\")\n",
    "\n",
    "# Display the first few rows to check the structure\n",
    "print(df.head())"
   ]
  },
  {
   "cell_type": "code",
   "execution_count": 2,
   "metadata": {},
   "outputs": [
    {
     "name": "stderr",
     "output_type": "stream",
     "text": [
      "[nltk_data] Downloading package punkt to\n",
      "[nltk_data]     C:\\Users\\USER\\AppData\\Roaming\\nltk_data...\n",
      "[nltk_data]   Package punkt is already up-to-date!\n",
      "[nltk_data] Downloading package stopwords to\n",
      "[nltk_data]     C:\\Users\\USER\\AppData\\Roaming\\nltk_data...\n",
      "[nltk_data]   Package stopwords is already up-to-date!\n",
      "[nltk_data] Downloading package wordnet to\n",
      "[nltk_data]     C:\\Users\\USER\\AppData\\Roaming\\nltk_data...\n",
      "[nltk_data]   Package wordnet is already up-to-date!\n"
     ]
    }
   ],
   "source": [
    "import nltk\n",
    "import string\n",
    "from nltk.tokenize import word_tokenize\n",
    "from nltk.corpus import stopwords\n",
    "from nltk.stem import WordNetLemmatizer\n",
    "\n",
    "# Download necessary NLP resources\n",
    "nltk.download('punkt')\n",
    "nltk.download('stopwords')\n",
    "nltk.download('wordnet')\n",
    "\n",
    "# Define the text preprocessing function\n",
    "def preprocess_text(text):\n",
    "    text = text.lower()  # Convert to lowercase\n",
    "    text = text.translate(str.maketrans('', '', string.punctuation))  # Remove punctuation\n",
    "    tokens = word_tokenize(text)  # Tokenize words\n",
    "    tokens = [word for word in tokens if word.isalpha()]  # Remove numbers and symbols\n",
    "    stop_words = set(stopwords.words('english'))  # Load stopwords\n",
    "    tokens = [word for word in tokens if word not in stop_words]  # Remove stopwords\n",
    "    lemmatizer = WordNetLemmatizer()\n",
    "    tokens = [lemmatizer.lemmatize(word) for word in tokens]  # Apply lemmatization\n",
    "    return ' '.join(tokens)  # Return cleaned text"
   ]
  },
  {
   "cell_type": "code",
   "execution_count": 3,
   "metadata": {},
   "outputs": [
    {
     "name": "stdout",
     "output_type": "stream",
     "text": [
      "['hut', 'hat', 'hit', 'het', 'hot']\n"
     ]
    },
    {
     "name": "stderr",
     "output_type": "stream",
     "text": [
      "[nltk_data] Downloading package words to\n",
      "[nltk_data]     C:\\Users\\USER\\AppData\\Roaming\\nltk_data...\n",
      "[nltk_data]   Package words is already up-to-date!\n"
     ]
    }
   ],
   "source": [
    "import re\n",
    "from nltk.corpus import words\n",
    "nltk.download('words')\n",
    "\n",
    "# Load English words dataset\n",
    "word_list = set(words.words())\n",
    "\n",
    "def find_matching_words(pattern):\n",
    "    regex_pattern = pattern.replace('_', '.')  # Convert '_' to regex wildcard '.'\n",
    "    matches = [word for word in word_list if re.fullmatch(regex_pattern, word)]\n",
    "    return matches\n",
    "\n",
    "# Example usage\n",
    "print(find_matching_words(\"h_t\"))  # Output: ['cat', 'cut']"
   ]
  },
  {
   "cell_type": "code",
   "execution_count": 4,
   "metadata": {},
   "outputs": [
    {
     "name": "stdout",
     "output_type": "stream",
     "text": [
      "drain\n"
     ]
    },
    {
     "name": "stderr",
     "output_type": "stream",
     "text": [
      "C:\\Users\\USER\\AppData\\Local\\Temp\\ipykernel_17552\\204870814.py:6: UserWarning: [W008] Evaluating Doc.similarity based on empty vectors.\n",
      "  best_match = max(word_list, key=lambda word: clue_vec.similarity(nlp(word)))\n"
     ]
    }
   ],
   "source": [
    "import spacy\n",
    "nlp = spacy.load(\"en_core_web_md\")\n",
    "\n",
    "def find_best_match(clue, word_list):\n",
    "    clue_vec = nlp(clue)\n",
    "    best_match = max(word_list, key=lambda word: clue_vec.similarity(nlp(word)))\n",
    "    return best_match\n",
    "\n",
    "# Example usage\n",
    "possible_words = find_matching_words(\"_rain\")\n",
    "print(find_best_match(\"Used to think\", possible_words))"
   ]
  }
 ],
 "metadata": {
  "kernelspec": {
   "display_name": "base",
   "language": "python",
   "name": "python3"
  },
  "language_info": {
   "codemirror_mode": {
    "name": "ipython",
    "version": 3
   },
   "file_extension": ".py",
   "mimetype": "text/x-python",
   "name": "python",
   "nbconvert_exporter": "python",
   "pygments_lexer": "ipython3",
   "version": "3.12.7"
  }
 },
 "nbformat": 4,
 "nbformat_minor": 2
}

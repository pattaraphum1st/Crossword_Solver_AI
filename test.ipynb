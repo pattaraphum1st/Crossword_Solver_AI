{
 "cells": [
  {
   "cell_type": "code",
   "execution_count": null,
   "metadata": {},
   "outputs": [],
   "source": [
    "import pandas as pd\n",
    "import re\n",
    "import numpy as np\n",
    "from sklearn.feature_extraction.text import TfidfVectorizer\n",
    "from sklearn.linear_model import SGDClassifier\n",
    "from sklearn.model_selection import train_test_split\n",
    "from sklearn.metrics import accuracy_score\n",
    "\n",
    "# Load the dataset\n",
    "df = pd.read_csv(\"C:/Users/USER/Downloads/archive1/big_dave.csv\")\n",
    "\n",
    "# Drop rows where 'answer' or 'clue' is missing\n",
    "df = df.dropna(subset=['answer', 'clue'])\n",
    "\n",
    "# Text preprocessing function\n",
    "def preprocess_text(text):\n",
    "    text = text.lower()  # Convert to lowercase\n",
    "    text = re.sub(r'[^a-z0-9\\s]', '', text)  # Remove special characters\n",
    "    return text\n",
    "\n",
    "# Apply preprocessing to clues\n",
    "df['clue'] = df['clue'].apply(preprocess_text)\n",
    "\n",
    "# Convert clues (text) into numerical features\n",
    "vectorizer = TfidfVectorizer()\n",
    "X = vectorizer.fit_transform(df['clue'])\n",
    "\n",
    "# Target variable (word labels)\n",
    "y = df['answer']\n",
    "\n",
    "# Split dataset into training and testing sets\n",
    "X_train, X_test, y_train, y_test = train_test_split(X, y, test_size=0.2, random_state=42)\n",
    "\n",
    "# Train a Support Vector Machine (SVM) with SGDClassifier\n",
    "clf = SGDClassifier(loss='log_loss', max_iter=1000, tol=1e-3, random_state=42)\n",
    "clf.fit(X_train, y_train)\n",
    "\n",
    "# Predict on test data\n",
    "y_pred = clf.predict(X_test)\n",
    "\n",
    "\n"
   ]
  },
  {
   "cell_type": "code",
   "execution_count": null,
   "metadata": {},
   "outputs": [],
   "source": [
    "# Evaluate accuracy\n",
    "accuracy = accuracy_score(y_test, y_pred)\n",
    "print(f\"Accuracy: {accuracy:.2f}\")\n",
    "\n",
    "# Function to classify a word from an input clue\n",
    "def classify_word(clue, pattern):\n",
    "    clue = preprocess_text(clue)  # Preprocess input clue\n",
    "    clue_vector = vectorizer.transform([clue])\n",
    "    predicted_word = clf.predict(clue_vector)[0]\n",
    "    \n",
    "    # Find matching words based on the given pattern\n",
    "    possible_words = find_matching_words(pattern)\n",
    "    \n",
    "    if possible_words:\n",
    "        if predicted_word in possible_words:\n",
    "            return predicted_word\n",
    "        else:\n",
    "            possible_vectors = vectorizer.transform(possible_words)\n",
    "            best_match_index = clf.decision_function(possible_vectors).argmax()\n",
    "            best_word = possible_words[best_match_index]\n",
    "            return best_word\n",
    "    \n",
    "    return predicted_word\n",
    "\n",
    "# Function to scope possible words based on a missing letter pattern\n",
    "def find_matching_words(pattern):\n",
    "    regex_pattern = pattern.replace('_', '.')  # Convert '_' to regex wildcard '.'\n",
    "    matches = [word for word in df['answer'] if isinstance(word, str) and re.fullmatch(regex_pattern, word, re.IGNORECASE)]\n",
    "    return matches"
   ]
  },
  {
   "cell_type": "code",
   "execution_count": null,
   "metadata": {},
   "outputs": [],
   "source": [
    "# Example usage\n",
    "print(classify_word(\"Animal doctor tense after sheep rejected\", \"M_R_ _T\"))"
   ]
  }
 ],
 "metadata": {
  "kernelspec": {
   "display_name": "base",
   "language": "python",
   "name": "python3"
  },
  "language_info": {
   "codemirror_mode": {
    "name": "ipython",
    "version": 3
   },
   "file_extension": ".py",
   "mimetype": "text/x-python",
   "name": "python",
   "nbconvert_exporter": "python",
   "pygments_lexer": "ipython3",
   "version": "3.12.7"
  }
 },
 "nbformat": 4,
 "nbformat_minor": 2
}
